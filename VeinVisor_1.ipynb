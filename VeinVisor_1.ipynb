{
  "nbformat": 4,
  "nbformat_minor": 0,
  "metadata": {
    "colab": {
      "provenance": [],
      "gpuType": "T4"
    },
    "kernelspec": {
      "name": "python3",
      "display_name": "Python 3"
    },
    "language_info": {
      "name": "python"
    },
    "accelerator": "GPU"
  },
  "cells": [
    {
      "cell_type": "code",
      "execution_count": 3,
      "metadata": {
        "id": "EDTFlW973GWd"
      },
      "outputs": [],
      "source": [
        "import tensorflow as tf\n",
        "from tensorflow import keras\n",
        "from keras import Sequential\n",
        "from keras.layers import Activation,Dense,Conv2D,MaxPooling2D,Flatten,Input\n",
        "from keras.models import Model\n",
        "from keras.preprocessing.image import ImageDataGenerator\n"
      ]
    },
    {
      "cell_type": "code",
      "source": [
        "from google.colab import drive\n",
        "drive.mount('/content/drive')"
      ],
      "metadata": {
        "colab": {
          "base_uri": "https://localhost:8080/"
        },
        "id": "sRFnhFHhjALG",
        "outputId": "963204e6-e28b-4055-fcdc-a0c494bf94da"
      },
      "execution_count": 5,
      "outputs": [
        {
          "output_type": "stream",
          "name": "stdout",
          "text": [
            "Mounted at /content/drive\n"
          ]
        }
      ]
    },
    {
      "cell_type": "code",
      "source": [
        "train_dir = '/content/drive/MyDrive/ACPS PROJECT /Train4'\n",
        "test_dir = '/content/drive/MyDrive/ACPS PROJECT /Test2'\n",
        "\n",
        "# train_ds = keras.utils.image_dataset_from_directory(\n",
        "#     train_dir,\n",
        "#     labels=\"inferred\",\n",
        "#     label_mode=\"binary\",\n",
        "#     #color_mode = \"rgb\",\n",
        "#     batch_size=32,\n",
        "#     image_size=(112,112),\n",
        "# )\n",
        "\n",
        "# valid_ds = keras.utils.image_dataset_from_directory(\n",
        "#     test_dir,\n",
        "#     labels=\"inferred\",\n",
        "#     label_mode=\"binary\",\n",
        "#     #color_mode = \"rgb\",\n",
        "#     batch_size=32,\n",
        "#     image_size=(112,112),\n",
        "# )\n",
        "\n",
        "train_datagen = ImageDataGenerator(rescale=1./255,validation_split=0.2)\n",
        "\n",
        "train_ds = train_datagen.flow_from_directory(\n",
        "    train_dir,\n",
        "    target_size=(112, 112),\n",
        "    batch_size=32,\n",
        "    class_mode='binary',\n",
        "    subset='training')\n",
        "\n",
        "valid_ds = train_datagen.flow_from_directory(\n",
        "    train_dir,\n",
        "    target_size=(112, 112),\n",
        "    batch_size=32,\n",
        "    class_mode='binary',\n",
        "    subset='validation')"
      ],
      "metadata": {
        "colab": {
          "base_uri": "https://localhost:8080/"
        },
        "id": "aNzIUg0J3eiG",
        "outputId": "1b8945fc-2ccd-4051-f389-30796c424927"
      },
      "execution_count": 6,
      "outputs": [
        {
          "output_type": "stream",
          "name": "stdout",
          "text": [
            "Found 1692 images belonging to 2 classes.\n",
            "Found 422 images belonging to 2 classes.\n"
          ]
        }
      ]
    },
    {
      "cell_type": "markdown",
      "source": [
        "Sequential CNN Model"
      ],
      "metadata": {
        "id": "hlkYnRwTXlVC"
      }
    },
    {
      "cell_type": "code",
      "source": [
        "# Building the CNN model\n",
        "model = Sequential([\n",
        "    Conv2D(32, (3, 3), activation='relu', input_shape=(112, 112, 3)),\n",
        "    MaxPooling2D(2, 2),\n",
        "    Conv2D(64, (3, 3), activation='relu'),\n",
        "    MaxPooling2D(2, 2),\n",
        "    Conv2D(128, (3, 3), activation='relu'),\n",
        "    MaxPooling2D(2, 2),\n",
        "    Conv2D(128, (3, 3), activation='relu'),\n",
        "    MaxPooling2D(2, 2),\n",
        "    Flatten(),\n",
        "    Dense(512, activation='relu'),\n",
        "    Dense(1, activation='sigmoid')\n",
        "])\n",
        "\n",
        "model.compile(loss='binary_crossentropy',\n",
        "              optimizer='adam',\n",
        "              metrics=['accuracy'])\n",
        "# #Normalise\n",
        "# def process(image,label):\n",
        "#   image = tf.cast(image/255. ,tf.float32)\n",
        "#   return image,label\n",
        "\n",
        "# train_ds = train_ds.map(process)\n",
        "# valid_ds = valid_ds.map(process)"
      ],
      "metadata": {
        "id": "0H1thJNA4yW2"
      },
      "execution_count": 7,
      "outputs": []
    },
    {
      "cell_type": "code",
      "source": [
        "model.fit(train_ds, validation_data = valid_ds, epochs=20)"
      ],
      "metadata": {
        "colab": {
          "base_uri": "https://localhost:8080/"
        },
        "id": "SilVMxXoYHFm",
        "outputId": "9df2a468-6476-4208-d89c-d02295752e92"
      },
      "execution_count": null,
      "outputs": [
        {
          "output_type": "stream",
          "name": "stdout",
          "text": [
            "Epoch 1/20\n",
            "53/53 [==============================] - 651s 12s/step - loss: 0.3859 - accuracy: 0.8286 - val_loss: 0.4150 - val_accuracy: 0.7915\n",
            "Epoch 2/20\n",
            "53/53 [==============================] - 94s 2s/step - loss: 0.0745 - accuracy: 0.9752 - val_loss: 0.1613 - val_accuracy: 0.9336\n",
            "Epoch 3/20\n",
            "53/53 [==============================] - 91s 2s/step - loss: 0.0455 - accuracy: 0.9864 - val_loss: 0.3533 - val_accuracy: 0.8341\n",
            "Epoch 4/20\n",
            "53/53 [==============================] - 92s 2s/step - loss: 0.1474 - accuracy: 0.9527 - val_loss: 0.1253 - val_accuracy: 0.9479\n",
            "Epoch 5/20\n",
            "53/53 [==============================] - 90s 2s/step - loss: 0.0511 - accuracy: 0.9805 - val_loss: 0.3488 - val_accuracy: 0.8341\n",
            "Epoch 6/20\n",
            "53/53 [==============================] - 92s 2s/step - loss: 0.0434 - accuracy: 0.9864 - val_loss: 0.0426 - val_accuracy: 0.9810\n",
            "Epoch 7/20\n",
            "53/53 [==============================] - 91s 2s/step - loss: 0.0228 - accuracy: 0.9905 - val_loss: 0.0342 - val_accuracy: 0.9929\n",
            "Epoch 8/20\n",
            "23/53 [============>.................] - ETA: 39s - loss: 0.1532 - accuracy: 0.9674"
          ]
        }
      ]
    },
    {
      "cell_type": "code",
      "source": [
        "from keras.layers import Add,Concatenate,Flatten,BatchNormalization,Dropout\n",
        "\n",
        "input_img = Input(shape=(112,112,3))\n",
        "print(input_img.shape)\n",
        "# 56*56*16\n",
        "conv1 = Conv2D(16, kernel_size=(3, 3), strides=(2, 2), padding='same', activation='relu')(input_img)\n",
        "BatchNormalization()\n",
        "# 28*28*16\n",
        "conv2 = Conv2D(16, kernel_size=(1, 1), strides=(2, 2), padding='same', activation='relu')(conv1)\n",
        "BatchNormalization()\n",
        "conv3 = Conv2D(16, kernel_size=(1, 1), strides=(2, 2), padding='same', activation='relu')(conv1)\n",
        "BatchNormalization()\n",
        "conv4 = Conv2D(16, kernel_size=(1, 1), strides=(2, 2), padding='same', activation='relu')(conv1)\n",
        "BatchNormalization()\n",
        "conv5 = Conv2D(16, kernel_size=(1, 1), strides=(2, 2), padding='same', activation='relu')(conv1)\n",
        "BatchNormalization()\n",
        "\n",
        "\n",
        "# Accretion layer addition OF 28*28*16 of conv2+conv3 and conv4+conv5\n",
        "added1 = Add()([conv2,conv3])\n",
        "added2 = Add()([conv4,conv5])\n",
        "\n",
        "# Now applying 1*1 filter on all the convoluted images\n",
        "#size is 14*14*32\n",
        "conv6 = Conv2D(32, kernel_size=(3, 3), strides=(2, 2), padding='same', activation='relu')(conv2)\n",
        "BatchNormalization()\n",
        "conv7 = Conv2D(32, kernel_size=(3, 3), strides=(2, 2), padding='same', activation='relu')(added1)\n",
        "BatchNormalization()\n",
        "conv8 = Conv2D(32, kernel_size=(3, 3), strides=(2, 2), padding='same', activation='relu')(added2)\n",
        "BatchNormalization()\n",
        "conv9 = Conv2D(32, kernel_size=(3, 3), strides=(2, 2), padding='same', activation='relu')(conv5)\n",
        "BatchNormalization()\n",
        "\n",
        "# Accretion layer addition OF 14*14*32 of conv6+conv7 and conv8+conv9\n",
        "added3 = Add()([conv6,conv7])\n",
        "added4 = Add()([conv8,conv9])\n",
        "\n",
        "# Now applying5*5 filter on all the convoluted images\n",
        "#size is 14*14*32\n",
        "conv10 = Conv2D(64, kernel_size=(5, 5), strides=(2, 2), padding='same', activation='relu')(conv6)\n",
        "BatchNormalization()\n",
        "conv11 = Conv2D(64, kernel_size=(5, 5), strides=(2, 2), padding='same', activation='relu')(added3)\n",
        "BatchNormalization()\n",
        "conv12 = Conv2D(64, kernel_size=(5, 5), strides=(2, 2), padding='same', activation='relu')(added4)\n",
        "BatchNormalization()\n",
        "conv13 = Conv2D(64, kernel_size=(5, 5), strides=(2, 2), padding='same', activation='relu')(conv9)\n",
        "BatchNormalization()\n",
        "\n",
        "#concatenate\n",
        "concatenated_output = Concatenate()([conv10, conv11, conv12, conv13])\n",
        "\n",
        "conv14 = Conv2D(256, kernel_size=(3, 3), strides=(2, 2), padding='same', activation='relu')(concatenated_output)\n",
        "BatchNormalization()\n",
        "flatten = Flatten()(conv14)\n",
        "\n",
        "#fully coonnected\n",
        "fully_connected = Dense(256, activation='relu')(flatten)\n",
        "Dropout(0.2)\n",
        "# Output layer (for binary classification)\n",
        "output = Dense(1, activation='sigmoid')(fully_connected)\n",
        "\n",
        "#model = Model(inputs = input_img, outputs=[conv1,conv2,conv3,conv4,conv5,concatenated_output,conv14,flatten,fully_connected,output])\n",
        "model = Model(inputs = input_img, outputs=output)\n"
      ],
      "metadata": {
        "colab": {
          "base_uri": "https://localhost:8080/"
        },
        "id": "LsbxKhT15PHO",
        "outputId": "f4137338-a8a6-4784-b988-c99fa61bbdab"
      },
      "execution_count": null,
      "outputs": [
        {
          "output_type": "stream",
          "name": "stdout",
          "text": [
            "(None, 112, 112, 3)\n"
          ]
        }
      ]
    },
    {
      "cell_type": "code",
      "source": [
        "model.summary()"
      ],
      "metadata": {
        "colab": {
          "base_uri": "https://localhost:8080/"
        },
        "id": "mc3SrtZa8ovo",
        "outputId": "35687223-6ea9-444b-e033-3d80eca42d8a"
      },
      "execution_count": null,
      "outputs": [
        {
          "output_type": "stream",
          "name": "stdout",
          "text": [
            "Model: \"model_2\"\n",
            "__________________________________________________________________________________________________\n",
            " Layer (type)                Output Shape                 Param #   Connected to                  \n",
            "==================================================================================================\n",
            " input_3 (InputLayer)        [(None, 112, 112, 3)]        0         []                            \n",
            "                                                                                                  \n",
            " conv2d_28 (Conv2D)          (None, 56, 56, 16)           448       ['input_3[0][0]']             \n",
            "                                                                                                  \n",
            " conv2d_29 (Conv2D)          (None, 28, 28, 16)           272       ['conv2d_28[0][0]']           \n",
            "                                                                                                  \n",
            " conv2d_30 (Conv2D)          (None, 28, 28, 16)           272       ['conv2d_28[0][0]']           \n",
            "                                                                                                  \n",
            " conv2d_31 (Conv2D)          (None, 28, 28, 16)           272       ['conv2d_28[0][0]']           \n",
            "                                                                                                  \n",
            " conv2d_32 (Conv2D)          (None, 28, 28, 16)           272       ['conv2d_28[0][0]']           \n",
            "                                                                                                  \n",
            " add_8 (Add)                 (None, 28, 28, 16)           0         ['conv2d_29[0][0]',           \n",
            "                                                                     'conv2d_30[0][0]']           \n",
            "                                                                                                  \n",
            " add_9 (Add)                 (None, 28, 28, 16)           0         ['conv2d_31[0][0]',           \n",
            "                                                                     'conv2d_32[0][0]']           \n",
            "                                                                                                  \n",
            " conv2d_33 (Conv2D)          (None, 14, 14, 32)           4640      ['conv2d_29[0][0]']           \n",
            "                                                                                                  \n",
            " conv2d_34 (Conv2D)          (None, 14, 14, 32)           4640      ['add_8[0][0]']               \n",
            "                                                                                                  \n",
            " conv2d_35 (Conv2D)          (None, 14, 14, 32)           4640      ['add_9[0][0]']               \n",
            "                                                                                                  \n",
            " conv2d_36 (Conv2D)          (None, 14, 14, 32)           4640      ['conv2d_32[0][0]']           \n",
            "                                                                                                  \n",
            " add_10 (Add)                (None, 14, 14, 32)           0         ['conv2d_33[0][0]',           \n",
            "                                                                     'conv2d_34[0][0]']           \n",
            "                                                                                                  \n",
            " add_11 (Add)                (None, 14, 14, 32)           0         ['conv2d_35[0][0]',           \n",
            "                                                                     'conv2d_36[0][0]']           \n",
            "                                                                                                  \n",
            " conv2d_37 (Conv2D)          (None, 7, 7, 64)             51264     ['conv2d_33[0][0]']           \n",
            "                                                                                                  \n",
            " conv2d_38 (Conv2D)          (None, 7, 7, 64)             51264     ['add_10[0][0]']              \n",
            "                                                                                                  \n",
            " conv2d_39 (Conv2D)          (None, 7, 7, 64)             51264     ['add_11[0][0]']              \n",
            "                                                                                                  \n",
            " conv2d_40 (Conv2D)          (None, 7, 7, 64)             51264     ['conv2d_36[0][0]']           \n",
            "                                                                                                  \n",
            " concatenate_2 (Concatenate  (None, 7, 7, 256)            0         ['conv2d_37[0][0]',           \n",
            " )                                                                   'conv2d_38[0][0]',           \n",
            "                                                                     'conv2d_39[0][0]',           \n",
            "                                                                     'conv2d_40[0][0]']           \n",
            "                                                                                                  \n",
            " conv2d_41 (Conv2D)          (None, 4, 4, 256)            590080    ['concatenate_2[0][0]']       \n",
            "                                                                                                  \n",
            " flatten_2 (Flatten)         (None, 4096)                 0         ['conv2d_41[0][0]']           \n",
            "                                                                                                  \n",
            " dense_4 (Dense)             (None, 256)                  1048832   ['flatten_2[0][0]']           \n",
            "                                                                                                  \n",
            " dense_5 (Dense)             (None, 1)                    257       ['dense_4[0][0]']             \n",
            "                                                                                                  \n",
            "==================================================================================================\n",
            "Total params: 1864321 (7.11 MB)\n",
            "Trainable params: 1864321 (7.11 MB)\n",
            "Non-trainable params: 0 (0.00 Byte)\n",
            "__________________________________________________________________________________________________\n"
          ]
        }
      ]
    },
    {
      "cell_type": "code",
      "source": [
        "# from keras.optimizers import Adam\n",
        "#Using Adam Optimiser\n",
        "\n",
        "from keras.losses import BinaryCrossentropy\n",
        "\n",
        "model.compile(optimizer='adam', loss=BinaryCrossentropy(), metrics=['accuracy'])\n"
      ],
      "metadata": {
        "id": "qrFt9B-e8r-g"
      },
      "execution_count": null,
      "outputs": []
    },
    {
      "cell_type": "code",
      "source": [
        "\n",
        "\n",
        "history = model.fit(train_ds, validation_data=valid_ds,epochs=20)\n"
      ],
      "metadata": {
        "colab": {
          "base_uri": "https://localhost:8080/"
        },
        "id": "mk_DgyTql2ig",
        "outputId": "3dc978cb-68b7-4996-cb00-834012f340b6"
      },
      "execution_count": null,
      "outputs": [
        {
          "output_type": "stream",
          "name": "stdout",
          "text": [
            "Epoch 1/20\n",
            "53/53 [==============================] - 565s 10s/step - loss: 0.4820 - accuracy: 0.7482 - val_loss: 0.5913 - val_accuracy: 0.8412\n",
            "Epoch 2/20\n",
            "53/53 [==============================] - 34s 653ms/step - loss: 0.1874 - accuracy: 0.9385 - val_loss: 0.1771 - val_accuracy: 0.9668\n",
            "Epoch 3/20\n",
            "53/53 [==============================] - 30s 563ms/step - loss: 0.0691 - accuracy: 0.9746 - val_loss: 0.0776 - val_accuracy: 0.9668\n",
            "Epoch 4/20\n",
            "53/53 [==============================] - 30s 569ms/step - loss: 0.0483 - accuracy: 0.9840 - val_loss: 0.1179 - val_accuracy: 0.9668\n",
            "Epoch 5/20\n",
            "53/53 [==============================] - 31s 579ms/step - loss: 0.0396 - accuracy: 0.9858 - val_loss: 0.6104 - val_accuracy: 0.7891\n",
            "Epoch 6/20\n",
            "53/53 [==============================] - 29s 558ms/step - loss: 0.0694 - accuracy: 0.9752 - val_loss: 0.1055 - val_accuracy: 0.9668\n",
            "Epoch 7/20\n",
            "53/53 [==============================] - 30s 570ms/step - loss: 0.0206 - accuracy: 0.9905 - val_loss: 0.0170 - val_accuracy: 0.9953\n",
            "Epoch 8/20\n",
            "53/53 [==============================] - 30s 576ms/step - loss: 0.0542 - accuracy: 0.9811 - val_loss: 0.0878 - val_accuracy: 0.9668\n",
            "Epoch 9/20\n",
            "53/53 [==============================] - 30s 559ms/step - loss: 0.0610 - accuracy: 0.9799 - val_loss: 0.0124 - val_accuracy: 1.0000\n",
            "Epoch 10/20\n",
            "53/53 [==============================] - 31s 582ms/step - loss: 0.0209 - accuracy: 0.9911 - val_loss: 0.1696 - val_accuracy: 0.9668\n",
            "Epoch 11/20\n",
            "53/53 [==============================] - 30s 577ms/step - loss: 0.0035 - accuracy: 0.9994 - val_loss: 0.0727 - val_accuracy: 0.9668\n",
            "Epoch 12/20\n",
            "53/53 [==============================] - 30s 569ms/step - loss: 1.0794e-04 - accuracy: 1.0000 - val_loss: 0.0737 - val_accuracy: 0.9716\n",
            "Epoch 13/20\n",
            "53/53 [==============================] - 29s 559ms/step - loss: 4.4161e-05 - accuracy: 1.0000 - val_loss: 0.1341 - val_accuracy: 0.9668\n",
            "Epoch 14/20\n",
            "53/53 [==============================] - 30s 576ms/step - loss: 2.3783e-05 - accuracy: 1.0000 - val_loss: 0.1167 - val_accuracy: 0.9668\n",
            "Epoch 15/20\n",
            "53/53 [==============================] - 30s 572ms/step - loss: 1.6023e-05 - accuracy: 1.0000 - val_loss: 0.1320 - val_accuracy: 0.9668\n",
            "Epoch 16/20\n",
            "53/53 [==============================] - 36s 675ms/step - loss: 1.2842e-05 - accuracy: 1.0000 - val_loss: 0.1296 - val_accuracy: 0.9668\n",
            "Epoch 17/20\n",
            "53/53 [==============================] - 30s 569ms/step - loss: 9.5754e-06 - accuracy: 1.0000 - val_loss: 0.1040 - val_accuracy: 0.9668\n",
            "Epoch 18/20\n",
            "53/53 [==============================] - 29s 557ms/step - loss: 8.6273e-06 - accuracy: 1.0000 - val_loss: 0.1376 - val_accuracy: 0.9668\n",
            "Epoch 19/20\n",
            "53/53 [==============================] - 34s 655ms/step - loss: 6.9267e-06 - accuracy: 1.0000 - val_loss: 0.1407 - val_accuracy: 0.9668\n",
            "Epoch 20/20\n",
            "53/53 [==============================] - 35s 664ms/step - loss: 6.5080e-06 - accuracy: 1.0000 - val_loss: 0.1346 - val_accuracy: 0.9668\n"
          ]
        }
      ]
    },
    {
      "cell_type": "code",
      "source": [
        "validation_accuracy_values = history.history['val_accuracy']\n",
        "training_accuracy_values = history.history['accuracy']\n",
        "# Calculate the mean validation accuracy\n",
        "mean_validation_accuracy = sum(validation_accuracy_values) / len(validation_accuracy_values)\n",
        "mean_train_accuracy = sum(training_accuracy_values) / len(training_accuracy_values)\n",
        "mean_train_accuracy = format(mean_train_accuracy*100, \".2f\")\n",
        "mean_validation_accuracy = format(mean_validation_accuracy*100, \".2f\")\n",
        "\n",
        "print(f\"Mean Training Accuracy: {mean_train_accuracy}%\")\n",
        "print(f\"Mean Validation Accuracy: {mean_validation_accuracy}%\")\n"
      ],
      "metadata": {
        "colab": {
          "base_uri": "https://localhost:8080/"
        },
        "id": "146yop1743Ku",
        "outputId": "22228ea9-a5f3-4e23-e92c-a6637c97c0b2"
      },
      "execution_count": null,
      "outputs": [
        {
          "output_type": "stream",
          "name": "stdout",
          "text": [
            "Mean Training Accuracy: 97.74%\n",
            "Mean Validation Accuracy: 95.50%\n"
          ]
        }
      ]
    },
    {
      "cell_type": "code",
      "source": [
        "import matplotlib.pyplot as plt\n",
        "\n",
        "plt.plot(history.history['accuracy'],color='red',label='train')\n",
        "plt.plot(history.history['val_accuracy'],color='blue',label='valid')\n",
        "plt.legend()\n",
        "plt.savefig(filename[:-4] + 'TSVR.eps', format='eps')\n",
        "# Save as MATLAB figure format\n",
        "plt.savefig(filename[:-4] + 'TSVR.fig', format='eps')\n",
        "plt.show()\n"
      ],
      "metadata": {
        "colab": {
          "base_uri": "https://localhost:8080/",
          "height": 211
        },
        "id": "GGw6yJCS2Qo_",
        "outputId": "f4d6a444-b58f-401b-a237-b87c6f718120"
      },
      "execution_count": 1,
      "outputs": [
        {
          "output_type": "error",
          "ename": "NameError",
          "evalue": "name 'history' is not defined",
          "traceback": [
            "\u001b[0;31m---------------------------------------------------------------------------\u001b[0m",
            "\u001b[0;31mNameError\u001b[0m                                 Traceback (most recent call last)",
            "\u001b[0;32m<ipython-input-1-af4fed4d4657>\u001b[0m in \u001b[0;36m<cell line: 3>\u001b[0;34m()\u001b[0m\n\u001b[1;32m      1\u001b[0m \u001b[0;32mimport\u001b[0m \u001b[0mmatplotlib\u001b[0m\u001b[0;34m.\u001b[0m\u001b[0mpyplot\u001b[0m \u001b[0;32mas\u001b[0m \u001b[0mplt\u001b[0m\u001b[0;34m\u001b[0m\u001b[0;34m\u001b[0m\u001b[0m\n\u001b[1;32m      2\u001b[0m \u001b[0;34m\u001b[0m\u001b[0m\n\u001b[0;32m----> 3\u001b[0;31m \u001b[0mplt\u001b[0m\u001b[0;34m.\u001b[0m\u001b[0mplot\u001b[0m\u001b[0;34m(\u001b[0m\u001b[0mhistory\u001b[0m\u001b[0;34m.\u001b[0m\u001b[0mhistory\u001b[0m\u001b[0;34m[\u001b[0m\u001b[0;34m'accuracy'\u001b[0m\u001b[0;34m]\u001b[0m\u001b[0;34m,\u001b[0m\u001b[0mcolor\u001b[0m\u001b[0;34m=\u001b[0m\u001b[0;34m'red'\u001b[0m\u001b[0;34m,\u001b[0m\u001b[0mlabel\u001b[0m\u001b[0;34m=\u001b[0m\u001b[0;34m'train'\u001b[0m\u001b[0;34m)\u001b[0m\u001b[0;34m\u001b[0m\u001b[0;34m\u001b[0m\u001b[0m\n\u001b[0m\u001b[1;32m      4\u001b[0m \u001b[0mplt\u001b[0m\u001b[0;34m.\u001b[0m\u001b[0mplot\u001b[0m\u001b[0;34m(\u001b[0m\u001b[0mhistory\u001b[0m\u001b[0;34m.\u001b[0m\u001b[0mhistory\u001b[0m\u001b[0;34m[\u001b[0m\u001b[0;34m'val_accuracy'\u001b[0m\u001b[0;34m]\u001b[0m\u001b[0;34m,\u001b[0m\u001b[0mcolor\u001b[0m\u001b[0;34m=\u001b[0m\u001b[0;34m'blue'\u001b[0m\u001b[0;34m,\u001b[0m\u001b[0mlabel\u001b[0m\u001b[0;34m=\u001b[0m\u001b[0;34m'valid'\u001b[0m\u001b[0;34m)\u001b[0m\u001b[0;34m\u001b[0m\u001b[0;34m\u001b[0m\u001b[0m\n\u001b[1;32m      5\u001b[0m \u001b[0mplt\u001b[0m\u001b[0;34m.\u001b[0m\u001b[0mlegend\u001b[0m\u001b[0;34m(\u001b[0m\u001b[0;34m)\u001b[0m\u001b[0;34m\u001b[0m\u001b[0;34m\u001b[0m\u001b[0m\n",
            "\u001b[0;31mNameError\u001b[0m: name 'history' is not defined"
          ]
        }
      ]
    },
    {
      "cell_type": "code",
      "source": [
        "import matplotlib.pyplot as plt\n",
        "\n",
        "plt.plot(history.history['loss'],color='red',label='train')\n",
        "plt.plot(history.history['val_loss'],color='blue',label='valid')\n",
        "plt.legend()\n",
        "plt.show()\n"
      ],
      "metadata": {
        "colab": {
          "base_uri": "https://localhost:8080/",
          "height": 430
        },
        "id": "qNBEoFN5ykNV",
        "outputId": "90e8e2f5-00c5-4021-ceb0-60e7f5f7fa6b"
      },
      "execution_count": null,
      "outputs": [
        {
          "output_type": "display_data",
          "data": {
            "text/plain": [
              "<Figure size 640x480 with 1 Axes>"
            ],
            "image/png": "[encoded data removed]"
          },
          "metadata": {}
        }
      ]
    },
    {
      "cell_type": "code",
      "source": [
        "from keras.losses import BinaryCrossentropy\n",
        "\n",
        "model.compile(optimizer='SGD', loss=BinaryCrossentropy(), metrics=['accuracy'])\n"
      ],
      "metadata": {
        "id": "ohTD8Csd6u54"
      },
      "execution_count": null,
      "outputs": []
    },
    {
      "cell_type": "code",
      "source": [
        "history = model.fit(train_ds, validation_data=valid_ds, epochs=20)"
      ],
      "metadata": {
        "colab": {
          "base_uri": "https://localhost:8080/"
        },
        "id": "fGv4hhMz6ws_",
        "outputId": "91435ddd-5f80-4ff3-9bd4-091846fd8f78"
      },
      "execution_count": null,
      "outputs": [
        {
          "output_type": "stream",
          "name": "stdout",
          "text": [
            "Epoch 1/20\n",
            "53/53 [==============================] - 33s 560ms/step - loss: 0.6658 - accuracy: 0.6158 - val_loss: 0.6587 - val_accuracy: 0.6161\n",
            "Epoch 2/20\n",
            "53/53 [==============================] - 35s 662ms/step - loss: 0.6518 - accuracy: 0.6158 - val_loss: 0.6577 - val_accuracy: 0.6161\n",
            "Epoch 3/20\n",
            "53/53 [==============================] - 31s 579ms/step - loss: 0.6384 - accuracy: 0.6194 - val_loss: 0.6393 - val_accuracy: 0.6161\n",
            "Epoch 4/20\n",
            "53/53 [==============================] - 30s 563ms/step - loss: 0.6151 - accuracy: 0.6661 - val_loss: 0.6198 - val_accuracy: 0.6161\n",
            "Epoch 5/20\n",
            "53/53 [==============================] - 34s 651ms/step - loss: 0.5769 - accuracy: 0.7069 - val_loss: 0.5789 - val_accuracy: 0.6493\n",
            "Epoch 6/20\n",
            "53/53 [==============================] - 30s 563ms/step - loss: 0.5476 - accuracy: 0.7329 - val_loss: 0.7529 - val_accuracy: 0.4716\n",
            "Epoch 7/20\n",
            "53/53 [==============================] - 30s 576ms/step - loss: 0.5424 - accuracy: 0.7193 - val_loss: 0.5147 - val_accuracy: 0.7156\n",
            "Epoch 8/20\n",
            "53/53 [==============================] - 29s 558ms/step - loss: 0.4978 - accuracy: 0.7654 - val_loss: 0.4981 - val_accuracy: 0.7109\n",
            "Epoch 9/20\n",
            "53/53 [==============================] - 31s 585ms/step - loss: 0.4365 - accuracy: 0.8008 - val_loss: 0.6616 - val_accuracy: 0.6185\n",
            "Epoch 10/20\n",
            "53/53 [==============================] - 30s 568ms/step - loss: 0.4223 - accuracy: 0.8150 - val_loss: 0.4599 - val_accuracy: 0.7156\n",
            "Epoch 11/20\n",
            "53/53 [==============================] - 31s 580ms/step - loss: 0.3580 - accuracy: 0.8534 - val_loss: 0.5200 - val_accuracy: 0.6493\n",
            "Epoch 12/20\n",
            "53/53 [==============================] - 29s 558ms/step - loss: 0.3882 - accuracy: 0.8369 - val_loss: 0.6442 - val_accuracy: 0.6730\n",
            "Epoch 13/20\n",
            "53/53 [==============================] - 30s 560ms/step - loss: 0.3451 - accuracy: 0.8605 - val_loss: 0.3787 - val_accuracy: 0.8341\n",
            "Epoch 14/20\n",
            "53/53 [==============================] - 32s 600ms/step - loss: 0.3640 - accuracy: 0.8457 - val_loss: 0.8418 - val_accuracy: 0.3981\n",
            "Epoch 15/20\n",
            "53/53 [==============================] - 31s 581ms/step - loss: 0.3305 - accuracy: 0.8641 - val_loss: 0.2929 - val_accuracy: 0.8863\n",
            "Epoch 16/20\n",
            "53/53 [==============================] - 30s 570ms/step - loss: 0.3082 - accuracy: 0.8853 - val_loss: 0.2118 - val_accuracy: 0.9597\n",
            "Epoch 17/20\n",
            "53/53 [==============================] - 29s 555ms/step - loss: 0.3689 - accuracy: 0.8387 - val_loss: 0.2312 - val_accuracy: 0.9218\n",
            "Epoch 18/20\n",
            "53/53 [==============================] - 31s 579ms/step - loss: 0.2658 - accuracy: 0.8989 - val_loss: 0.2870 - val_accuracy: 0.8483\n",
            "Epoch 19/20\n",
            "53/53 [==============================] - 31s 587ms/step - loss: 0.2469 - accuracy: 0.9137 - val_loss: 0.1910 - val_accuracy: 0.9668\n",
            "Epoch 20/20\n",
            "53/53 [==============================] - 30s 571ms/step - loss: 0.5439 - accuracy: 0.7417 - val_loss: 0.6000 - val_accuracy: 0.7512\n"
          ]
        }
      ]
    },
    {
      "cell_type": "code",
      "source": [
        "validation_accuracy_values = history.history['val_accuracy']\n",
        "training_accuracy_values = history.history['accuracy']\n",
        "# Calculate the mean validation accuracy\n",
        "mean_validation_accuracy = sum(validation_accuracy_values) / len(validation_accuracy_values)\n",
        "mean_train_accuracy = sum(training_accuracy_values) / len(training_accuracy_values)\n",
        "mean_train_accuracy = format(mean_train_accuracy*100, \".2f\")\n",
        "mean_validation_accuracy = format(mean_validation_accuracy*100, \".2f\")\n",
        "\n",
        "print(f\"Mean Training Accuracy: {mean_train_accuracy}%\")\n",
        "print(f\"Mean Validation Accuracy: {mean_validation_accuracy}%\")\n"
      ],
      "metadata": {
        "colab": {
          "base_uri": "https://localhost:8080/"
        },
        "id": "CeSR7TYB68Df",
        "outputId": "2d9ef441-bb89-4145-beba-5b3d18df4aa8"
      },
      "execution_count": null,
      "outputs": [
        {
          "output_type": "stream",
          "name": "stdout",
          "text": [
            "Mean Training Accuracy: 77.98%\n",
            "Mean Validation Accuracy: 71.17%\n"
          ]
        }
      ]
    },
    {
      "cell_type": "code",
      "source": [
        "import matplotlib.pyplot as plt\n",
        "\n",
        "plt.plot(history.history['accuracy'],color='red',label='train')\n",
        "plt.plot(history.history['val_accuracy'],color='blue',label='valid')\n",
        "plt.legend()\n",
        "plt.show()\n"
      ],
      "metadata": {
        "colab": {
          "base_uri": "https://localhost:8080/",
          "height": 430
        },
        "id": "a0H0Fkj0-25M",
        "outputId": "9193d01d-7c03-4f5f-ca06-bf0d925cbe1f"
      },
      "execution_count": null,
      "outputs": [
        {
          "output_type": "display_data",
          "data": {
            "text/plain": [
              "<Figure size 640x480 with 1 Axes>"
            ],
            "image/png": "[encoded data removed]"
          },
          "metadata": {}
        }
      ]
    },
    {
      "cell_type": "code",
      "source": [
        "import matplotlib.pyplot as plt\n",
        "\n",
        "plt.plot(history.history['loss'],color='red',label='train')\n",
        "plt.plot(history.history['val_loss'],color='blue',label='valid')\n",
        "plt.legend()\n",
        "plt.show()\n"
      ],
      "metadata": {
        "id": "j17k_fZk-9BY",
        "outputId": "1d729a85-25d4-4128-94f0-d64eed55501f",
        "colab": {
          "base_uri": "https://localhost:8080/",
          "height": 430
        }
      },
      "execution_count": null,
      "outputs": [
        {
          "output_type": "display_data",
          "data": {
            "text/plain": [
              "<Figure size 640x480 with 1 Axes>"
            ],
            "image/png": "[encoded data removed]"
          },
          "metadata": {}
        }
      ]
    },
    {
      "cell_type": "code",
      "source": [
        "# from keras.layers import Add,Concatenate,Flatten\n",
        "\n",
        "# input_img = Input(shape=(112,112,3))\n",
        "# print(input_img.shape)\n",
        "# # 56*56*16\n",
        "# conv1 = Conv2D(16, kernel_size=(3, 3), strides=(2, 2), padding='same', activation='relu')(input_img)\n",
        "\n",
        "# # 28*28*16\n",
        "# conv2 = Conv2D(16, kernel_size=(1, 1), strides=(2, 2), padding='same', activation='relu')(conv1)\n",
        "# conv3 = Conv2D(16, kernel_size=(1, 1), strides=(2, 2), padding='same', activation='relu')(conv1)\n",
        "# conv4 = Conv2D(16, kernel_size=(1, 1), strides=(2, 2), padding='same', activation='relu')(conv1)\n",
        "# conv5 = Conv2D(16, kernel_size=(1, 1), strides=(2, 2), padding='same', activation='relu')(conv1)\n",
        "\n",
        "\n",
        "# # Accretion layer addition OF 28*28*16 of conv2+conv3 and conv4+conv5\n",
        "# added1 = Add()([conv2,conv3])\n",
        "# added2 = Add()([conv4,conv5])\n",
        "\n",
        "# # Now applying 1*1 filter on all the convoluted images\n",
        "# #size is 14*14*32\n",
        "# conv6 = Conv2D(32, kernel_size=(3, 3), strides=(2, 2), padding='same', activation='relu')(conv2)\n",
        "# conv7 = Conv2D(32, kernel_size=(3, 3), strides=(2, 2), padding='same', activation='relu')(added1)\n",
        "# conv8 = Conv2D(32, kernel_size=(3, 3), strides=(2, 2), padding='same', activation='relu')(added2)\n",
        "# conv9 = Conv2D(32, kernel_size=(3, 3), strides=(2, 2), padding='same', activation='relu')(conv5)\n",
        "\n",
        "# # Accretion layer addition OF 14*14*32 of conv6+conv7 and conv8+conv9\n",
        "# added3 = Add()([conv6,conv7])\n",
        "# added4 = Add()([conv8,conv9])\n",
        "\n",
        "# # Now applying5*5 filter on all the convoluted images\n",
        "# #size is 14*14*32\n",
        "# conv10 = Conv2D(64, kernel_size=(5, 5), strides=(2, 2), padding='same', activation='relu')(conv6)\n",
        "# conv11 = Conv2D(64, kernel_size=(5, 5), strides=(2, 2), padding='same', activation='relu')(added3)\n",
        "# conv12 = Conv2D(64, kernel_size=(5, 5), strides=(2, 2), padding='same', activation='relu')(added4)\n",
        "# conv13 = Conv2D(64, kernel_size=(5, 5), strides=(2, 2), padding='same', activation='relu')(conv9)\n",
        "\n",
        "# #concatenate\n",
        "# concatenated_output = Concatenate()([conv10, conv11, conv12, conv13])\n",
        "\n",
        "# conv14 = Conv2D(256, kernel_size=(3, 3), strides=(2, 2), padding='same', activation='relu')(concatenated_output)\n",
        "# flatten = Flatten()(conv14)\n",
        "\n",
        "# #fully coonnected\n",
        "# fully_connected = Dense(256, activation='relu')(flatten)\n",
        "\n",
        "# # Output layer (for binary classification)\n",
        "# output = Dense(1, activation='sigmoid')(fully_connected)\n",
        "\n",
        "# model = Model(inputs = input_img, outputs=[conv1,conv2,conv3,conv4,conv5,added1,added2,conv6,conv7,conv8,conv9,added3,added4,conv10,conv11,conv12,conv13,concatenated_output,conv14,flatten,fully_connected,output])\n"
      ],
      "metadata": {
        "id": "UR-Fss5Vl81I",
        "colab": {
          "base_uri": "https://localhost:8080/"
        },
        "outputId": "f6c79af0-5fff-4526-fbdf-9dae2d0f38ee"
      },
      "execution_count": null,
      "outputs": [
        {
          "output_type": "stream",
          "name": "stdout",
          "text": [
            "(None, 112, 112, 3)\n"
          ]
        }
      ]
    },
    {
      "cell_type": "code",
      "source": [],
      "metadata": {
        "id": "eljx9eJQ66NJ"
      },
      "execution_count": null,
      "outputs": []
    }
  ]
}
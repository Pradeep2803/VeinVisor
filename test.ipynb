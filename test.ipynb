{
 "cells": [
  {
   "cell_type": "code",
   "execution_count": 2,
   "metadata": {},
   "outputs": [],
   "source": [
    "import cv2\n",
    "import numpy as np\n"
   ]
  },
  {
   "cell_type": "code",
   "execution_count": 3,
   "metadata": {},
   "outputs": [],
   "source": [
    "image = cv2.imread('IMG20240320163257.jpg', cv2.IMREAD_GRAYSCALE)\n"
   ]
  },
  {
   "cell_type": "code",
   "execution_count": 12,
   "metadata": {},
   "outputs": [],
   "source": [
    "# Apply Sobel filter in x-direction\n",
    "sobel_x = cv2.Sobel(image, cv2.CV_64F, 1, 0, ksize=1)\n",
    "\n",
    "# Apply Sobel filter in y-direction\n",
    "sobel_y = cv2.Sobel(image, cv2.CV_64F, 0, 1, ksize=1)\n"
   ]
  },
  {
   "cell_type": "code",
   "execution_count": 13,
   "metadata": {},
   "outputs": [],
   "source": [
    "# Combine Sobel x and y outputs\n",
    "sobel_combined = np.sqrt(sobel_x**2 + sobel_y**2)\n",
    "sobel_combined = np.uint8(sobel_combined)  # Convert back to 8-bit\n"
   ]
  },
  {
   "cell_type": "code",
   "execution_count": 14,
   "metadata": {},
   "outputs": [],
   "source": [
    "cv2.imshow('Sobel Filter Result', sobel_combined)\n",
    "cv2.waitKey(0)\n",
    "cv2.destroyAllWindows()\n"
   ]
  },
  {
   "cell_type": "code",
   "execution_count": 15,
   "metadata": {},
   "outputs": [],
   "source": [
    "\n",
    "# Assuming 'sobel_combined' is your processed image\n",
    "height, width = sobel_combined.shape[:2]\n",
    "\n",
    "# Get the screen dimensions\n",
    "screen_height, screen_width = 800, 7000  # Example screen resolution, replace with actual values\n",
    "\n",
    "# If the image is larger than the screen, resize it\n",
    "if height > screen_height or width > screen_width:\n",
    "    scaling_factor = min(screen_height / height, screen_width / width)\n",
    "    resized_image = cv2.resize(sobel_combined, None, fx=scaling_factor, fy=scaling_factor, interpolation=cv2.INTER_AREA)\n",
    "else:\n",
    "    resized_image = sobel_combined\n",
    "\n",
    "cv2.imshow('Sobel Filter Result', resized_image)\n",
    "cv2.waitKey(0)\n",
    "cv2.destroyAllWindows()\n"
   ]
  },
  {
   "cell_type": "code",
   "execution_count": null,
   "metadata": {},
   "outputs": [],
   "source": []
  }
 ],
 "metadata": {
  "kernelspec": {
   "display_name": "Python 3",
   "language": "python",
   "name": "python3"
  },
  "language_info": {
   "codemirror_mode": {
    "name": "ipython",
    "version": 3
   },
   "file_extension": ".py",
   "mimetype": "text/x-python",
   "name": "python",
   "nbconvert_exporter": "python",
   "pygments_lexer": "ipython3",
   "version": "3.11.8"
  }
 },
 "nbformat": 4,
 "nbformat_minor": 2
}
